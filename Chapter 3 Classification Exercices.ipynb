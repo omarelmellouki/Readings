{
 "cells": [
  {
   "cell_type": "markdown",
   "metadata": {},
   "source": [
    "# Exercise 1 : Training a 97% classifier on MNIST using KNN"
   ]
  },
  {
   "cell_type": "code",
   "execution_count": 1,
   "metadata": {
    "scrolled": true
   },
   "outputs": [
    {
     "name": "stderr",
     "output_type": "stream",
     "text": [
      "/home/omar/snap/jupyter/common/lib/python3.7/site-packages/joblib/_multiprocessing_helpers.py:45: UserWarning: [Errno 13] Permission denied.  joblib will operate in serial mode\n",
      "  warnings.warn('%s.  joblib will operate in serial mode' % (e,))\n"
     ]
    },
    {
     "data": {
      "text/plain": [
       "dict_keys(['data', 'target', 'frame', 'categories', 'feature_names', 'target_names', 'DESCR', 'details', 'url'])"
      ]
     },
     "execution_count": 1,
     "metadata": {},
     "output_type": "execute_result"
    }
   ],
   "source": [
    "import ssl\n",
    "ssl._create_default_https_context = ssl._create_unverified_context\n",
    "\n",
    "import time\n",
    "#Upload the mnist dataset using sklearn\n",
    "from sklearn.datasets import fetch_openml\n",
    "mnist = fetch_openml('mnist_784', version = 1)\n",
    "mnist.keys()"
   ]
  },
  {
   "cell_type": "code",
   "execution_count": 2,
   "metadata": {},
   "outputs": [],
   "source": [
    "# We split the data set into training and testing set\n",
    "X, y = mnist[\"data\"], mnist[\"target\"]\n",
    "X_train, X_test,y_train , y_test = X[:60000], X[60000:], y[:60000], y[60000:]"
   ]
  },
  {
   "cell_type": "code",
   "execution_count": 3,
   "metadata": {},
   "outputs": [
    {
     "data": {
      "text/plain": [
       "KNeighborsClassifier()"
      ]
     },
     "execution_count": 3,
     "metadata": {},
     "output_type": "execute_result"
    }
   ],
   "source": [
    "# We put the test set away  \n",
    "# We initialize a KNN classifier\n",
    "from sklearn.neighbors import KNeighborsClassifier\n",
    "tic = time.time()\n",
    "# We initialize the model\n",
    "knn = KNeighborsClassifier()\n",
    "tac = time.time()\n",
    "#We fit it\n",
    "knn.fit(X_train, y_train)"
   ]
  },
  {
   "cell_type": "code",
   "execution_count": 24,
   "metadata": {},
   "outputs": [
    {
     "name": "stdout",
     "output_type": "stream",
     "text": [
      "5.698204040527344e-05\n"
     ]
    },
    {
     "data": {
      "text/plain": [
       "array(['5'], dtype=object)"
      ]
     },
     "execution_count": 24,
     "metadata": {},
     "output_type": "execute_result"
    }
   ],
   "source": [
    "print(tac-tic)\n",
    "import matplotlib.pyplot as plt\n",
    "\n",
    "digit = X[0]\n",
    "def plt_img(img):\n",
    "    digit_img = img.reshape(28,28)\n",
    "    plt.imshow(digit_img, cmap=\"binary\")\n",
    "\n",
    "# Test prediction, the model did good\n",
    "knn.predict([X[0]])"
   ]
  },
  {
   "cell_type": "code",
   "execution_count": null,
   "metadata": {},
   "outputs": [],
   "source": [
    "# Evaluating the model using cross validation\n",
    "\n",
    "from sklearn.model_selection import cross_val_score\n",
    "#cross_val_score(knn, X_train, y_train, cv=3, scoring = \"accuracy\")\n"
   ]
  },
  {
   "cell_type": "code",
   "execution_count": null,
   "metadata": {},
   "outputs": [],
   "source": [
    "### This takes way too long to run ! "
   ]
  },
  {
   "cell_type": "markdown",
   "metadata": {},
   "source": [
    "# Exercise 2 : Data Augmentation"
   ]
  },
  {
   "cell_type": "code",
   "execution_count": 30,
   "metadata": {},
   "outputs": [
    {
     "data": {
      "image/png": "[encoded data removed]",
      "text/plain": [
       "<Figure size 576x576 with 4 Axes>"
      ]
     },
     "metadata": {
      "needs_background": "light"
     },
     "output_type": "display_data"
    }
   ],
   "source": [
    "# We write a function that can shift an image in each direction\n",
    "from scipy.ndimage.interpolation import shift\n",
    "\n",
    "def augmentation(image,direction):\n",
    "    \n",
    "    assert direction in {\"left\", \"right\", \"up\", \"down\"}, \"Direction not in left, right, up, or down\"\n",
    "    \n",
    "    image_to_shift = image.reshape(28,28)\n",
    "    if direction ==\"left\":\n",
    "        shifted = shift(image_to_shift,[0,-5])\n",
    "    elif direction ==\"right\":\n",
    "        shifted = shift(image_to_shift,[0,5])\n",
    "    elif direction ==\"up\":\n",
    "        shifted = shift(image_to_shift,[-5,0])\n",
    "    elif direction ==\"down\":\n",
    "        shifted = shift(image_to_shift,[5,0])\n",
    "    \n",
    "    return(shifted.reshape(784))\n",
    "\n",
    "# We make the test with 5 pixels to make sure it worked\n",
    "plt.figure(figsize=(8,8))\n",
    "plt.subplot(221); plt_img(augmentation(X[0],\"left\"))\n",
    "plt.subplot(222); plt_img(augmentation(X[0],\"right\"))\n",
    "plt.subplot(223); plt_img(augmentation(X[0],\"up\"))\n",
    "plt.subplot(224); plt_img(augmentation(X[0],\"down\"))"
   ]
  },
  {
   "cell_type": "markdown",
   "metadata": {},
   "source": [
    "# Exercice 3: Tackling the Titanic Dataset"
   ]
  }
 ],
 "metadata": {
  "kernelspec": {
   "display_name": "Python 3",
   "language": "python",
   "name": "python3"
  },
  "language_info": {
   "codemirror_mode": {
    "name": "ipython",
    "version": 3
   },
   "file_extension": ".py",
   "mimetype": "text/x-python",
   "name": "python",
   "nbconvert_exporter": "python",
   "pygments_lexer": "ipython3",
   "version": "3.7.3"
  }
 },
 "nbformat": 4,
 "nbformat_minor": 2
}
