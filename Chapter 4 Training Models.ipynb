{
 "cells": [
  {
   "cell_type": "markdown",
   "metadata": {},
   "source": [
    "# Linear Regression\n",
    "\n",
    "We start by the presentation of the optimization of the parameters of the Linear Regression. \n",
    "Computing an application of the normal equation as minimizer of the RMSE of the cos function for a inear Regression"
   ]
  },
  {
   "cell_type": "code",
   "execution_count": 2,
   "metadata": {},
   "outputs": [],
   "source": [
    "import numpy as np\n",
    "\n",
    "# 100 samples from a uniform distribution on [0,1]\n",
    "X = 2 * np.random.rand(100,1)\n",
    "y = 4 + 3 * X + np.random.rand(100,1)\n",
    "\n",
    "# We now compute the theta hat\n",
    "\n",
    "X_b = np.c_[np.ones((100,1)), X] #We add the intercept\n",
    "theta_best = np.linalg.inv(X_b.T.dot(X_b)).dot(X_b.T).dot(y) #The computation "
   ]
  },
  {
   "cell_type": "markdown",
   "metadata": {},
   "source": [
    "# Gradient Descent\n",
    "\n",
    "Gradient Descent is a generic optimization method capable of finding solutions to a wide range of problems. The general idea is to tweak the parameters iteratively in order to minimize a cost function. \n",
    "\n",
    "Concretely we start by randomly initializing the parameters, then improving gradually by taking steps in the direction of steepest descent and refreshing the parameters proportionnally to the value of the gradient. The learning step is proportional to the slop of the cost function, meaning that the steps get tinier and tinier as we get closer to the optimum of the cost function. \n",
    "\n",
    "The learning rate must be well chosen; if it is too small, the algorithm will take too long to converge. If it is too large, we may miss the optimum, and the algorithm will diverge.\n",
    "\n",
    "The cost function is also important, as its analytical properties highly influence the success of the optimization, by either plateau-ing or converging towards a local minimum.  \n",
    "\n",
    "When using Gradient Descent, all features should also have a similar scale, or otherwise it will take too long to converge. "
   ]
  },
  {
   "cell_type": "markdown",
   "metadata": {},
   "source": [
    "# Batch Gradient Descent\n",
    "\n",
    "To implement gradient descent one needs to compute the gradient of the cost function with regard to each model parameter. The expression of the gradient for the MSE cost function is $ \\frac{2}{m} X^{T}(X\\theta - y)$. The gradient is computed using the whole size of the training set, which means it is very slow for large training sets. However Gradient Descent scales very well with large numbers of features, much faster than computing the normal equation, where it must compute the inverse of a matrix.\n",
    "\n"
   ]
  },
  {
   "cell_type": "markdown",
   "metadata": {},
   "source": [
    "# Mini Batch Gradient Descent\n",
    "\n",
    "The mini batch gradient descent is an algorithm that is between the Batch Gradient Descent and the Stochastic Gradient Descent. The gradients are this time computed on small random sets of instances called mini-batches. "
   ]
  },
  {
   "cell_type": "markdown",
   "metadata": {},
   "source": [
    "# Polynomial Regression\n",
    "\n",
    "# Learning Curves\n",
    "\n",
    "A way to decide whether a model is too complex or too simple is to look at how it performs on train and cross-validation metrics.\n",
    "If it fits well on the training set but bad on the test set it is probably over fitting, if it fits bad on both it is under fitting. \n",
    "Another way to tell is to plot the learning curves. These are plots of the models performance on the training and test sets. "
   ]
  },
  {
   "cell_type": "code",
   "execution_count": 3,
   "metadata": {},
   "outputs": [
    {
     "data": {
      "image/png": "[encoded data removed]",
      "text/plain": [
       "<Figure size 432x288 with 1 Axes>"
      ]
     },
     "metadata": {
      "needs_background": "light"
     },
     "output_type": "display_data"
    }
   ],
   "source": [
    "# The code to plot the learning curves of a given model\n",
    "from sklearn.metrics import mean_squared_error\n",
    "from sklearn.model_selection import train_test_split\n",
    "import matplotlib.pyplot as plt\n",
    "from sklearn.linear_model import LinearRegression\n",
    "\n",
    "# Function to plot the learning curves given a model, a set of data, and a target feature\n",
    "def plot_learning_curves(model, X, y):\n",
    "    \n",
    "    # We split the data into training and evaluating \n",
    "    X_train, X_val, y_train, y_val = train_test_split(X,y,test_size=0.2)\n",
    "    \n",
    "    # We store the errors for both sets\n",
    "    train_errors, val_errors = [],[]\n",
    "    \n",
    "    # We take bigger and bigger sets\n",
    "    for m in range(1,len(X_train)):\n",
    "        \n",
    "        # We fit the model\n",
    "        model.fit(X_train[:m], y_train[:m])\n",
    "        \n",
    "        # We predict the values for the training set\n",
    "        y_train_predict = model.predict(X_train[:m])\n",
    "        \n",
    "        # We predict on the validation set\n",
    "        y_val_predict = model.predict(X_val)\n",
    "        \n",
    "        # We store the RMSE\n",
    "        train_errors.append(mean_squared_error(y_train[:m], y_train_predict))    \n",
    "        val_errors.append(mean_squared_error(y_val, y_val_predict))\n",
    "    \n",
    "    plt.axis([0,80,0,3])\n",
    "    plt.plot(np.sqrt(train_errors), \"r-+\", linewidth = 2, label = \"train\")\n",
    "    plt.plot(np.sqrt(val_errors), \"b-\", linewidth = 3, label = \"val\") \n",
    "    \n",
    "m = 100\n",
    "X = 6 * np.random.rand(m,1) - 3\n",
    "y = 0.5 * X**2 + X + 2 + np.random.randn(m,1)\n",
    "\n",
    "lin_reg = LinearRegression()\n",
    "plot_learning_curves(lin_reg, X, y)"
   ]
  },
  {
   "cell_type": "markdown",
   "metadata": {},
   "source": [
    "This model is underfitting. When the model is trained on one of two instances it fits them perfectly, but as soon as the data gets larger the model has more and more trouble fitting it. Then, it fits as good as it can, but then plateau's, because the data being non-linear a linear model won't be able to do much more. "
   ]
  },
  {
   "cell_type": "code",
   "execution_count": 4,
   "metadata": {
    "scrolled": true
   },
   "outputs": [
    {
     "data": {
      "image/png": "[encoded data removed]",
      "text/plain": [
       "<Figure size 432x288 with 1 Axes>"
      ]
     },
     "metadata": {
      "needs_background": "light"
     },
     "output_type": "display_data"
    }
   ],
   "source": [
    "from sklearn.pipeline import Pipeline\n",
    "from sklearn.preprocessing import PolynomialFeatures\n",
    "\n",
    "polynomial_regression = Pipeline([\n",
    "    (\"poly_features\", PolynomialFeatures(degree = 10, include_bias = False)),\n",
    "    (\"lin_reg\", LinearRegression()),\n",
    "    \n",
    "])\n",
    "\n",
    "plot_learning_curves(polynomial_regression, X, y)"
   ]
  },
  {
   "cell_type": "markdown",
   "metadata": {},
   "source": [
    "## Ridge Regression\n",
    "Ridge regression is a regularized version of *Linear Regression*, where a regularized term equal to $\\alpha\\sum_{i=1}^{n}\\theta^2$ is added to the cost function. The regularization is used to reduce overfitting by reducing the number of dimensions in the model. For a linear model the regularization is typically achieved by constraining the weigths of the model. \n",
    "\n",
    "The bias term is not regularized in this regularization. It is important to scale the data as it is sensitive to the scale of the input features. "
   ]
  },
  {
   "cell_type": "code",
   "execution_count": 5,
   "metadata": {},
   "outputs": [
    {
     "data": {
      "text/plain": [
       "array([[5.13481162]])"
      ]
     },
     "execution_count": 5,
     "metadata": {},
     "output_type": "execute_result"
    }
   ],
   "source": [
    "# To perform a Ridge Regression, using a closed-form solution \n",
    "# computed with a matrix factorization technique by André-Louis Cholesky\n",
    "from sklearn.linear_model import Ridge\n",
    "ridge_reg = Ridge(alpha = 1, solver = \"cholesky\")\n",
    "ridge_reg.fit(X,y)\n",
    "ridge_reg.predict([[1.5]])"
   ]
  },
  {
   "cell_type": "code",
   "execution_count": 6,
   "metadata": {},
   "outputs": [
    {
     "data": {
      "text/plain": [
       "array([5.11036405])"
      ]
     },
     "execution_count": 6,
     "metadata": {},
     "output_type": "execute_result"
    }
   ],
   "source": [
    "# To optimize by SGD, the l2 argument is to add a penalization term\n",
    "from sklearn.linear_model import SGDRegressor\n",
    "sgd_reg = SGDRegressor(penalty = \"l2\")\n",
    "sgd_reg.fit(X, y.ravel())\n",
    "sgd_reg.predict([[1.5]])"
   ]
  },
  {
   "cell_type": "markdown",
   "metadata": {},
   "source": [
    "## Lasso Regression\n",
    "\n",
    "Lasso regression is the same as the ridge regression except it uses the L1 norm. \n",
    "\n",
    "## Elastic Net\n",
    "\n",
    "It's a middle ground between ridge and lasso penalization. The cost function becomes : \n",
    "\n",
    "$J(\\theta) = MSE(\\theta) + r\\alpha\\sum_{i=1}^{n}|\\theta| + \\frac{1-r}{2}\\alpha\\sum_{i=1}^{n}\\theta^2$\n",
    "\n",
    "The r ration is the mix ratio.\n",
    "\n",
    "Generally, plain linear regression should always be avoided, and ridge regression is a good default. "
   ]
  },
  {
   "cell_type": "code",
   "execution_count": 7,
   "metadata": {},
   "outputs": [
    {
     "data": {
      "text/plain": [
       "array([5.10288381])"
      ]
     },
     "execution_count": 7,
     "metadata": {},
     "output_type": "execute_result"
    }
   ],
   "source": [
    "from sklearn.linear_model import ElasticNet\n",
    "# The l1 ratio is the mix ratio r\n",
    "elastic_net = ElasticNet(alpha = 0.1, l1_ratio = 0.5)\n",
    "elastic_net.fit(X,y)\n",
    "elastic_net.predict([[1.5]])"
   ]
  },
  {
   "cell_type": "markdown",
   "metadata": {},
   "source": [
    "## Early Stopping \n",
    "\n",
    "Is a different form of training, which consists of stopping the training as soon as the validation error reaches a minimum. \n",
    "\n",
    "Sometimes it may not be easy to realize when you've reached the minimum. The strategy is to stop after the error has been above the minimum for sometime then roll back the parameters up to the point of the minimum. \n",
    "\n",
    "It is important to scale the data as most regularized methods are sensitive to the scale of the data. "
   ]
  },
  {
   "cell_type": "code",
   "execution_count": 8,
   "metadata": {},
   "outputs": [
    {
     "name": "stdout",
     "output_type": "stream",
     "text": [
      "987\n"
     ]
    }
   ],
   "source": [
    "# Implementation of early stopping \n",
    "\n",
    "from sklearn.pipeline import Pipeline\n",
    "from sklearn.base import clone \n",
    "from sklearn.preprocessing import PolynomialFeatures, StandardScaler\n",
    "\n",
    "# Data pipeline\n",
    "## Scaling the data for regularization\n",
    "poly_scaler = Pipeline([\n",
    "    \n",
    "    # Adding degrees up until the 90th degree\n",
    "    (\"poly_features\", PolynomialFeatures(degree=90, include_bias = False)),\n",
    "    \n",
    "    # Scaling the data for regularization\n",
    "    (\"std_scaler\", StandardScaler())  \n",
    "    \n",
    "])\n",
    "\n",
    "# Building the data sets\n",
    "X_train, X_val, y_train, y_val = train_test_split(X,y,test_size=0.2)\n",
    "\n",
    "# Transforming the data \n",
    "X_train_poly_scaled = poly_scaler.fit_transform(X_train)\n",
    "X_val_poly_scaled = poly_scaler.transform(X_val)\n",
    "\n",
    "# The regressor \n",
    "\n",
    "sgd_reg = SGDRegressor(max_iter = 1, tol = -np.infty, warm_start=True, \n",
    "                      penalty = None, learning_rate = \"constant\", eta0 = 0.0005)\n",
    "\n",
    "\n",
    "minimum_val_error = float(\"inf\")\n",
    "\n",
    "# We keep the epoch of the best model in memory\n",
    "best_epoch = None\n",
    "\n",
    "# We keep the best model\n",
    "best_model = None\n",
    "\n",
    "for epoch in range(1000):\n",
    "    \n",
    "    # The model is retrained at each epoch by starting where it left off\n",
    "    # thanks to the warm start parameter\n",
    "    sgd_reg.fit(X_train_poly_scaled, y_train.ravel())\n",
    "\n",
    "    # The model predicts \n",
    "    y_val_predict = sgd_reg.predict(X_val_poly_scaled)\n",
    "    \n",
    "    # The error is computed \n",
    "    val_error = mean_squared_error(y_val, y_val_predict)\n",
    "\n",
    "    # We test to see if the model scores a smaller error\n",
    "    if val_error < minimum_val_error:\n",
    "        \n",
    "        minimum_val_error = val_error\n",
    "        best_epoch = epoch \n",
    "        best_model = clone(sgd_reg)\n",
    "\n",
    "print(best_epoch)"
   ]
  },
  {
   "cell_type": "markdown",
   "metadata": {},
   "source": [
    "# Logistic Regression \n",
    "\n",
    "Used to estimate probabilities. Returns 1 if the probability is greater than 50% and 0 otherwise. \n",
    "\n",
    "How to estimate the probabilities ? \n",
    "The logistic regression computes a weighted sum of the input features and outputs the logistic of this result (sigmoid). \n",
    "\n",
    "The logistic model is trained by minimizing the log loss\n",
    "\n",
    "$ J(\\theta) = -\\frac{1}{m} \\sum_{i=1}^{m} [y^{(i)}log(\\widehat p)+ (1-y^{(i)}log(1-\\widehat p^{(i)})] $ \n",
    "\n",
    "Their is no closed-form equation to compute the minimum of the function. The good news is the cost function is convex so optimization will always find the global minimum. \n",
    "\n",
    "## Decision Boundaries\n",
    "\n",
    "Let's try to build a classifier that detects  the type of a flower based on the petal width feature. "
   ]
  },
  {
   "cell_type": "code",
   "execution_count": 9,
   "metadata": {},
   "outputs": [
    {
     "data": {
      "text/plain": [
       "[<matplotlib.lines.Line2D at 0x7f1bb85292b0>]"
      ]
     },
     "execution_count": 9,
     "metadata": {},
     "output_type": "execute_result"
    },
    {
     "data": {
      "image/png": "[encoded data removed]",
      "text/plain": [
       "<Figure size 432x288 with 1 Axes>"
      ]
     },
     "metadata": {
      "needs_background": "light"
     },
     "output_type": "display_data"
    }
   ],
   "source": [
    "# Importing the dataset \n",
    "from sklearn import datasets\n",
    "\n",
    "# The Iris dataset\n",
    "iris = datasets.load_iris()\n",
    "list(iris.keys())\n",
    "\n",
    "# Classifier based only on the petal width \n",
    "X = iris[\"data\"][:,3:] # petal width\n",
    "y = (iris[\"target\"] == 2).astype(np.int) # convert classes to either 2 or not 2 \n",
    "\n",
    "# Training the Logistic Regressor \n",
    "\n",
    "from sklearn.linear_model import LogisticRegression\n",
    "\n",
    "# Initializing and training the model\n",
    "log_reg = LogisticRegression()\n",
    "log_reg.fit(X,y)\n",
    "\n",
    "# Create a new array containing simulated values for flowers with petals from 0 to 3 cms \n",
    "X_new = np.linspace(0,3,1000).reshape(-1,1)\n",
    "y_proba = log_reg.predict_proba(X_new)\n",
    "\n",
    "plt.plot(X_new, y_proba[:,1], \"g--\", label = \"Iris virginica\")\n",
    "plt.plot(X_new, y_proba[:,0], \"b-\", label = \"Not Iris virginica\")"
   ]
  },
  {
   "cell_type": "markdown",
   "metadata": {},
   "source": [
    "# Softmax Regression\n",
    "\n",
    "The Logistic Regression model can be generalized to support multiple classes directly without having to train and combine multiple binary classifiers. Its called the SoftMax Regression or Multinomial Logistic Regression. \n",
    "\n",
    "The softmax regression computes a score for each class then estimates the probability of each classby applying the softmax function to the scores. \n",
    "\n",
    "The function used to measure the accuracy of the predictilon is the cross entropy function : \n",
    "\n",
    "$ J(\\theta) = -\\frac{1}{m} \\sum_{i=1}^{m} \\sum_{i=1}^{K} y_{k}^{(i)}log(\\widehat p_{k}^{(i)}) $ \n",
    "\n",
    "The optimization is then used to reach the optimal set of parameters $\\theta$ "
   ]
  },
  {
   "cell_type": "code",
   "execution_count": 20,
   "metadata": {},
   "outputs": [
    {
     "data": {
      "text/plain": [
       "array([[6.38014896e-07, 5.74929995e-02, 9.42506362e-01]])"
      ]
     },
     "execution_count": 20,
     "metadata": {},
     "output_type": "execute_result"
    }
   ],
   "source": [
    "# Computing the Softmax Regression \n",
    "\n",
    "X = iris[\"data\"][:,(2,3)] # Petal length and width\n",
    "y = iris[\"target\"]\n",
    "\n",
    "softmax_reg = LogisticRegression(multi_class = \"multinomial\", solver = \"lbfgs\", C = 10)\n",
    "softmax_reg.fit(X,y)\n",
    "softmax_reg.predict_proba([[5,2]])\n",
    "\n",
    "# This will get us the probabilities of being in each class"
   ]
  },
  {
   "cell_type": "markdown",
   "metadata": {},
   "source": [
    "# Batch Gradient Descent with early stopping for softmax regression"
   ]
  },
  {
   "cell_type": "code",
   "execution_count": null,
   "metadata": {},
   "outputs": [],
   "source": [
    "## \n",
    "from sklearn.pipeline import Pipeline\n",
    "from sklearn.base import clone \n",
    "from sklearn.preprocessing import PolynomialFeatures, StandardScaler\n",
    "\n",
    "# Data pipeline\n",
    "## Scaling the data for regularization\n",
    "poly_scaler = Pipeline([\n",
    "    \n",
    "    # Adding degrees up until the 90th degree\n",
    "    (\"poly_features\", PolynomialFeatures(degree=90, include_bias = False)),\n",
    "    \n",
    "    # Scaling the data for regularization\n",
    "    (\"std_scaler\", StandardScaler())  \n",
    "    \n",
    "])\n",
    "\n",
    "# Building the data sets\n",
    "X_train, X_val, y_train, y_val = train_test_split(X,y,test_size=0.2)\n",
    "\n",
    "# Transforming the data \n",
    "X_train_poly_scaled = poly_scaler.fit_transform(X_train)\n",
    "X_val_poly_scaled = poly_scaler.transform(X_val)\n",
    "\n",
    "#Best Epoch and best model\n",
    "best_epoch = None\n",
    "best_model = None\n",
    "minimum_val_error = float(\"inf\")\n",
    "\n",
    "#We initialize the parameters for the \n",
    "\n",
    "# Since it is a batch gradient descent we need\n",
    "# to compute the the gradient \n",
    "\n",
    "for epoch in range(1000):\n",
    "    \n",
    "    \n",
    "\n",
    "\n",
    "\n",
    "\n",
    "\n",
    "\n",
    "\n",
    "\n",
    "\n",
    "\n",
    "\n",
    "\n",
    "\n",
    "\n",
    "\n",
    "\n",
    "\n",
    "\n",
    "\n",
    "\n",
    "\n",
    "\n",
    "\n",
    "\n",
    "\n",
    "\n",
    "\n",
    "\n",
    "\n",
    "\n",
    "\n"
   ]
  }
 ],
 "metadata": {
  "kernelspec": {
   "display_name": "Python 3",
   "language": "python",
   "name": "python3"
  },
  "language_info": {
   "codemirror_mode": {
    "name": "ipython",
    "version": 3
   },
   "file_extension": ".py",
   "mimetype": "text/x-python",
   "name": "python",
   "nbconvert_exporter": "python",
   "pygments_lexer": "ipython3",
   "version": "3.6.9"
  }
 },
 "nbformat": 4,
 "nbformat_minor": 2
}
